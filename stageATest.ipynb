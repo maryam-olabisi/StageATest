{
 "cells": [
  {
   "cell_type": "code",
   "execution_count": 1,
   "metadata": {},
   "outputs": [],
   "source": [
    "import numpy as np\n",
    "import pandas as pd\n",
    "import matplotlib.pyplot as plt\n"
   ]
  },
  {
   "cell_type": "code",
   "execution_count": 2,
   "metadata": {},
   "outputs": [],
   "source": [
    "fuel_data = pd.read_csv('fuel_ferc1.csv')"
   ]
  },
  {
   "cell_type": "code",
   "execution_count": 3,
   "metadata": {},
   "outputs": [
    {
     "name": "stdout",
     "output_type": "stream",
     "text": [
      "                record_id  utility_id_ferc1  report_year  \\\n",
      "0   f1_fuel_1994_12_1_0_7                 1         1994   \n",
      "1  f1_fuel_1994_12_1_0_10                 1         1994   \n",
      "2   f1_fuel_1994_12_2_0_1                 2         1994   \n",
      "3   f1_fuel_1994_12_2_0_7                 2         1994   \n",
      "4  f1_fuel_1994_12_2_0_10                 2         1994   \n",
      "5  f1_fuel_1994_12_2_0_13                 2         1994   \n",
      "6   f1_fuel_1994_12_2_1_1                 2         1994   \n",
      "7  f1_fuel_1994_12_2_1_10                 2         1994   \n",
      "8  f1_fuel_1994_12_2_2_10                 2         1994   \n",
      "9   f1_fuel_1994_12_4_0_1                 4         1994   \n",
      "\n",
      "       plant_name_ferc1 fuel_type_code_pudl fuel_unit  fuel_qty_burned  \\\n",
      "0              rockport                coal       ton        5377489.0   \n",
      "1  rockport total plant                coal       ton       10486945.0   \n",
      "2                gorgas                coal       ton        2978683.0   \n",
      "3                 barry                coal       ton        3739484.0   \n",
      "4             chickasaw                 gas       mcf          40533.0   \n",
      "5   e. c. gaston-unit 5                coal       ton        2124933.0   \n",
      "6      joseph m. farley             nuclear       kgU           2260.0   \n",
      "7   resondent's portion                coal       ton        5372133.0   \n",
      "8  respondent's portion                coal       ton         817520.0   \n",
      "9             units 1-3                coal       ton        1471233.0   \n",
      "\n",
      "   fuel_mmbtu_per_unit  fuel_cost_per_unit_burned  \\\n",
      "0            16.590000                      18.59   \n",
      "1            16.592000                      18.58   \n",
      "2            24.130000                      39.72   \n",
      "3            23.950000                      47.21   \n",
      "4             1.000000                       2.77   \n",
      "5            23.922000                      44.24   \n",
      "6             0.064094                      28.77   \n",
      "7            24.840000                      58.54   \n",
      "8            24.290000                      33.97   \n",
      "9            22.484000                      28.73   \n",
      "\n",
      "   fuel_cost_per_unit_delivered  fuel_cost_per_mmbtu  \n",
      "0                         18.53                1.121  \n",
      "1                         18.53                1.120  \n",
      "2                         38.12                1.650  \n",
      "3                         45.99                1.970  \n",
      "4                          2.77                2.570  \n",
      "5                         43.25                1.850  \n",
      "6                          0.00                0.450  \n",
      "7                         55.13                2.360  \n",
      "8                         34.65                1.400  \n",
      "9                         28.11                1.278  \n"
     ]
    }
   ],
   "source": [
    "print(fuel_data.head(10))"
   ]
  },
  {
   "cell_type": "code",
   "execution_count": 15,
   "metadata": {},
   "outputs": [
    {
     "name": "stdout",
     "output_type": "stream",
     "text": [
      "coal      67.421830\n",
      "gas       13.659397\n",
      "waste     19.518122\n",
      "oil      168.877086\n",
      "dtype: float64\n",
      "13.659396569737071\n"
     ]
    }
   ],
   "source": [
    "# average of type gases\n",
    "# the average of each of coal, gas, waste, oil - save into a series\n",
    "fuel_data_coal=fuel_data.loc[fuel_data['fuel_type_code_pudl'] == \"coal\"]\n",
    "fuel_data_coal_mean=fuel_data_coal['fuel_cost_per_unit_burned'].mean()\n",
    "\n",
    "# gas\n",
    "fuel_data_gas=fuel_data.loc[fuel_data['fuel_type_code_pudl'] == \"gas\"]\n",
    "fuel_data_gas_mean=fuel_data_gas['fuel_cost_per_unit_burned'].mean()\n",
    "# print(fuel_data_gas_mean)\n",
    "# output = pd.Series.append([fuel_data_gas_mean], index=[\"gas\"])\n",
    "\n",
    "# waste\n",
    "fuel_data_waste=fuel_data.loc[fuel_data['fuel_type_code_pudl'] == \"waste\"]\n",
    "fuel_data_waste_mean=fuel_data_waste['fuel_cost_per_unit_burned'].mean()\n",
    "# print(fuel_data_waste_mean)\n",
    "\n",
    "# oil\n",
    "fuel_data_oil=fuel_data.loc[fuel_data['fuel_type_code_pudl'] == \"oil\"]\n",
    "fuel_data_oil_mean=fuel_data_oil['fuel_cost_per_unit_burned'].mean()\n",
    "# print(fuel_data_oil_mean)\n",
    "\n",
    "#save to a series and get minimum\n",
    "output = pd.Series([fuel_data_coal_mean,fuel_data_gas_mean,fuel_data_waste_mean,fuel_data_oil_mean ], index=[\"coal\", \"gas\",\"waste\",\"oil\"])\n",
    "print(output)\n",
    "\n",
    "# minimum value using the min method\n",
    "print(output.min())"
   ]
  },
  {
   "cell_type": "code",
   "execution_count": 18,
   "metadata": {},
   "outputs": [
    {
     "name": "stdout",
     "output_type": "stream",
     "text": [
      "10.6 17.01\n"
     ]
    }
   ],
   "source": [
    "# standard deviation using .std() method and rounds to 2 decimal places\n",
    "standard_dev= np.round(fuel_data['fuel_mmbtu_per_unit'].std(), decimals=2)\n",
    "# 75h percential using the quamtile() method a\n",
    "perf=np.round(fuel_data['fuel_mmbtu_per_unit'].quantile(.75), decimals=2)\n",
    "\n",
    "print(standard_dev,perf)"
   ]
  },
  {
   "cell_type": "code",
   "execution_count": 19,
   "metadata": {},
   "outputs": [
    {
     "name": "stdout",
     "output_type": "stream",
     "text": [
      "15.85\n",
      "651.37\n"
     ]
    }
   ],
   "source": [
    "# skewness \n",
    "skew1=np.round(fuel_data.skew()['fuel_qty_burned'], decimals=2)\n",
    "print(skew1)\n",
    "# kurtosis\n",
    "kurs=np.round(fuel_data.kurtosis()['fuel_qty_burned'], decimals=2)\n",
    "print(kurs)"
   ]
  },
  {
   "cell_type": "code",
   "execution_count": 21,
   "metadata": {},
   "outputs": [
    {
     "name": "stdout",
     "output_type": "stream",
     "text": [
      "Index(['record_id', 'utility_id_ferc1', 'report_year', 'plant_name_ferc1',\n",
      "       'fuel_type_code_pudl', 'fuel_unit', 'fuel_qty_burned',\n",
      "       'fuel_mmbtu_per_unit', 'fuel_cost_per_unit_burned',\n",
      "       'fuel_cost_per_unit_delivered', 'fuel_cost_per_mmbtu'],\n",
      "      dtype='object')\n"
     ]
    }
   ],
   "source": [
    "# Which year has the highest average fuel cost per unit delivered?\n",
    "print(fuel_data.columns)\n"
   ]
  },
  {
   "cell_type": "code",
   "execution_count": 49,
   "metadata": {},
   "outputs": [
    {
     "name": "stdout",
     "output_type": "stream",
     "text": [
      "Index(['fuel_unit'], dtype='object')\n",
      "record_id                       0.61\n",
      "utility_id_ferc1                0.61\n",
      "report_year                     0.61\n",
      "plant_name_ferc1                0.61\n",
      "fuel_type_code_pudl             0.61\n",
      "fuel_unit                       0.00\n",
      "fuel_qty_burned                 0.61\n",
      "fuel_mmbtu_per_unit             0.61\n",
      "fuel_cost_per_unit_burned       0.61\n",
      "fuel_cost_per_unit_delivered    0.61\n",
      "fuel_cost_per_mmbtu             0.61\n",
      "dtype: float64\n"
     ]
    }
   ],
   "source": [
    "# find the missing features\n",
    "# returns missing feature\n",
    "print(fuel_data.columns[fuel_data.isnull().any()])\n",
    "# returns all missing rows count\n",
    "null_data = fuel_data[fuel_data.isnull().any(axis=1)]\n",
    "# print(null_data.count())\n",
    "percentage = (null_data.count()/fuel_data.count()) * 100\n",
    "print(np.round(percentage, decimals=3))"
   ]
  },
  {
   "cell_type": "code",
   "execution_count": 42,
   "metadata": {
    "scrolled": true
   },
   "outputs": [
    {
     "name": "stdout",
     "output_type": "stream",
     "text": [
      "                              utility_id_ferc1  report_year  fuel_qty_burned  \\\n",
      "utility_id_ferc1                      1.000000     0.093323        -0.057447   \n",
      "report_year                           0.093323     1.000000         0.012952   \n",
      "fuel_qty_burned                      -0.057447     0.012952         1.000000   \n",
      "fuel_mmbtu_per_unit                  -0.066946    -0.110853        -0.080946   \n",
      "fuel_cost_per_unit_burned            -0.037863     0.013599        -0.018535   \n",
      "fuel_cost_per_unit_delivered         -0.016414    -0.014043        -0.003551   \n",
      "fuel_cost_per_mmbtu                   0.006122     0.010261        -0.001896   \n",
      "\n",
      "                              fuel_mmbtu_per_unit  fuel_cost_per_unit_burned  \\\n",
      "utility_id_ferc1                        -0.066946                  -0.037863   \n",
      "report_year                             -0.110853                   0.013599   \n",
      "fuel_qty_burned                         -0.080946                  -0.018535   \n",
      "fuel_mmbtu_per_unit                      1.000000                  -0.010034   \n",
      "fuel_cost_per_unit_burned               -0.010034                   1.000000   \n",
      "fuel_cost_per_unit_delivered            -0.009039                   0.011007   \n",
      "fuel_cost_per_mmbtu                     -0.005884                  -0.000437   \n",
      "\n",
      "                              fuel_cost_per_unit_delivered  \\\n",
      "utility_id_ferc1                                 -0.016414   \n",
      "report_year                                      -0.014043   \n",
      "fuel_qty_burned                                  -0.003551   \n",
      "fuel_mmbtu_per_unit                              -0.009039   \n",
      "fuel_cost_per_unit_burned                         0.011007   \n",
      "fuel_cost_per_unit_delivered                      1.000000   \n",
      "fuel_cost_per_mmbtu                              -0.000109   \n",
      "\n",
      "                              fuel_cost_per_mmbtu  \n",
      "utility_id_ferc1                         0.006122  \n",
      "report_year                              0.010261  \n",
      "fuel_qty_burned                         -0.001896  \n",
      "fuel_mmbtu_per_unit                     -0.005884  \n",
      "fuel_cost_per_unit_burned               -0.000437  \n",
      "fuel_cost_per_unit_delivered            -0.000109  \n",
      "fuel_cost_per_mmbtu                      1.000000  \n"
     ]
    }
   ],
   "source": [
    "cor = fuel_data.corr()\n",
    "print(cor)"
   ]
  },
  {
   "cell_type": "code",
   "execution_count": 27,
   "metadata": {},
   "outputs": [
    {
     "name": "stdout",
     "output_type": "stream",
     "text": [
      "1997    11140.197239\n",
      "1996     9196.705948\n",
      "2004      139.524275\n",
      "2009      652.694163\n",
      "2018      499.269966\n",
      "dtype: float64\n",
      "139.52427516778525\n"
     ]
    }
   ],
   "source": [
    "# average cost per unit delivered for each year will be mean of all the costs\n",
    "# get ean for each of 1997, 2004, 1996, 2009, 2018\n",
    "fuel_data_1997 = fuel_data.loc[fuel_data['report_year'] == 1997]\n",
    "fuel_data_1997_mean=fuel_data_1997['fuel_cost_per_unit_delivered'].mean()\n",
    "# 2004\n",
    "fuel_data_2004 = fuel_data.loc[fuel_data['report_year'] == 2004]\n",
    "fuel_data_2004_mean=fuel_data_2004['fuel_cost_per_unit_delivered'].mean()\n",
    "# 1996\n",
    "fuel_data_1996 = fuel_data.loc[fuel_data['report_year'] == 1996]\n",
    "fuel_data_1996_mean=fuel_data_1996['fuel_cost_per_unit_delivered'].mean()\n",
    "# 2009\n",
    "fuel_data_2009 = fuel_data.loc[fuel_data['report_year'] == 2009]\n",
    "fuel_data_2009_mean=fuel_data_2009['fuel_cost_per_unit_delivered'].mean()\n",
    "# 2018\n",
    "fuel_data_2018 = fuel_data.loc[fuel_data['report_year'] == 2018]\n",
    "fuel_data_2018_mean=fuel_data_2018['fuel_cost_per_unit_delivered'].mean()\n",
    "\n",
    "#save to a series and get minimum\n",
    "output = pd.Series([fuel_data_1997_mean,fuel_data_1996_mean,fuel_data_2004_mean,fuel_data_2009_mean,fuel_data_2018_mean ], index=[1997, 1996, 2004, 2009, 2018])\n",
    "print(output)\n",
    "\n",
    "# minimum value using the min method\n",
    "print(output.min())"
   ]
  },
  {
   "cell_type": "code",
   "execution_count": null,
   "metadata": {},
   "outputs": [],
   "source": []
  }
 ],
 "metadata": {
  "kernelspec": {
   "display_name": "Python 3",
   "language": "python",
   "name": "python3"
  },
  "language_info": {
   "codemirror_mode": {
    "name": "ipython",
    "version": 3
   },
   "file_extension": ".py",
   "mimetype": "text/x-python",
   "name": "python",
   "nbconvert_exporter": "python",
   "pygments_lexer": "ipython3",
   "version": "3.7.4"
  }
 },
 "nbformat": 4,
 "nbformat_minor": 4
}
